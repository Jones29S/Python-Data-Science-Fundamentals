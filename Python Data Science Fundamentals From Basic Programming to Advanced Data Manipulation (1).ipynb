{
 "cells": [
  {
   "cell_type": "code",
   "execution_count": 1,
   "id": "0bed9bde-f90a-44b9-bb3b-6a4ef35c9cd0",
   "metadata": {},
   "outputs": [
    {
     "name": "stdout",
     "output_type": "stream",
     "text": [
      "7 is odd\n"
     ]
    }
   ],
   "source": [
    "def check_even_odd(number):\n",
    "    if number % 2 == 0:\n",
    "        return f\"{number} is even\"\n",
    "    else:\n",
    "        return f\"{number} is odd\"\n",
    "\n",
    "# Test the function\n",
    "num = 7\n",
    "print(check_even_odd(num))"
   ]
  },
  {
   "cell_type": "code",
   "execution_count": 3,
   "id": "64306697-144c-4c83-ab50-d784a03d76d8",
   "metadata": {},
   "outputs": [
    {
     "name": "stdout",
     "output_type": "stream",
     "text": [
      "1 2 3 4 5 6 7 8 9 10 "
     ]
    }
   ],
   "source": [
    "for i in range(1, 11):\n",
    "    print(i, end=\" \")"
   ]
  },
  {
   "cell_type": "code",
   "execution_count": 5,
   "id": "5ed2d1e6-bfc7-4c24-a44d-87923418fa9e",
   "metadata": {},
   "outputs": [
    {
     "name": "stdout",
     "output_type": "stream",
     "text": [
      "Factorial of 5 is 120\n"
     ]
    }
   ],
   "source": [
    "def factorial(n):\n",
    "    result = 1\n",
    "    i = 1\n",
    "    while i <= n:\n",
    "        result *= i\n",
    "        i += 1\n",
    "    return result\n",
    "\n",
    "# Test the function\n",
    "n = 5\n",
    "print(f\"Factorial of {n} is {factorial(n)}\")"
   ]
  },
  {
   "cell_type": "code",
   "execution_count": 7,
   "id": "3f5ae9f6-f2f9-4d05-a185-7da18b90cddb",
   "metadata": {},
   "outputs": [
    {
     "name": "stdout",
     "output_type": "stream",
     "text": [
      "Maximum of 10, 25, and 15 is 25\n"
     ]
    }
   ],
   "source": [
    "def find_maximum(a, b, c):\n",
    "    if a >= b and a >= c:\n",
    "        return a\n",
    "    elif b >= a and b >= c:\n",
    "        return b\n",
    "    else:\n",
    "        return c\n",
    "\n",
    "# Test the function\n",
    "a, b, c = 10, 25, 15\n",
    "print(f\"Maximum of {a}, {b}, and {c} is {find_maximum(a, b, c)}\")"
   ]
  },
  {
   "cell_type": "code",
   "execution_count": 9,
   "id": "d8a12f45-a699-41d0-a080-b1bb4f2302d6",
   "metadata": {},
   "outputs": [
    {
     "name": "stdout",
     "output_type": "stream",
     "text": [
      "First 10 Fibonacci numbers: [0, 1, 1, 2, 3, 5, 8, 13, 21, 34]\n"
     ]
    }
   ],
   "source": [
    "def fibonacci(n):\n",
    "    fib_series = [0, 1]\n",
    "    for i in range(2, n):\n",
    "        fib_series.append(fib_series[i-1] + fib_series[i-2])\n",
    "    return fib_series\n",
    "\n",
    "# Get first 10 Fibonacci numbers\n",
    "fib = fibonacci(10)\n",
    "print(\"First 10 Fibonacci numbers:\", fib)"
   ]
  },
  {
   "cell_type": "code",
   "execution_count": 11,
   "id": "4e6e87ee-67b0-4cec-b3f8-ee30ac0115c5",
   "metadata": {},
   "outputs": [
    {
     "name": "stdout",
     "output_type": "stream",
     "text": [
      "17 is prime\n"
     ]
    }
   ],
   "source": [
    "def is_prime(num):\n",
    "    if num <= 1:\n",
    "        return False\n",
    "    if num <= 3:\n",
    "        return True\n",
    "    if num % 2 == 0 or num % 3 == 0:\n",
    "        return False\n",
    "    i = 5\n",
    "    while i * i <= num:\n",
    "        if num % i == 0 or num % (i + 2) == 0:\n",
    "            return False\n",
    "        i += 6\n",
    "    return True\n",
    "\n",
    "# Test the function\n",
    "num = 17\n",
    "print(f\"{num} is {'prime' if is_prime(num) else 'not prime'}\")"
   ]
  },
  {
   "cell_type": "code",
   "execution_count": 13,
   "id": "78dc8a7f-f4ed-4b45-911b-cc57e3b30d75",
   "metadata": {},
   "outputs": [
    {
     "name": "stdout",
     "output_type": "stream",
     "text": [
      "Even numbers from 1 to 100: [2, 4, 6, 8, 10, 12, 14, 16, 18, 20, 22, 24, 26, 28, 30, 32, 34, 36, 38, 40, 42, 44, 46, 48, 50, 52, 54, 56, 58, 60, 62, 64, 66, 68, 70, 72, 74, 76, 78, 80, 82, 84, 86, 88, 90, 92, 94, 96, 98, 100]\n"
     ]
    }
   ],
   "source": [
    "even_numbers = []\n",
    "for i in range(1, 101):\n",
    "    if i % 2 == 0:\n",
    "        even_numbers.append(i)\n",
    "\n",
    "print(\"Even numbers from 1 to 100:\", even_numbers)"
   ]
  },
  {
   "cell_type": "code",
   "execution_count": 15,
   "id": "22eb9d38-a659-4009-9eca-61ac584ebde4",
   "metadata": {},
   "outputs": [
    {
     "name": "stdout",
     "output_type": "stream",
     "text": [
      "Sum of numbers from 1 to 100 is 5050\n"
     ]
    }
   ],
   "source": [
    "def sum_to_n(n):\n",
    "    total = 0\n",
    "    i = 1\n",
    "    while i <= n:\n",
    "        total += i\n",
    "        i += 1\n",
    "    return total\n",
    "\n",
    "# Test the function\n",
    "n = 100\n",
    "print(f\"Sum of numbers from 1 to {n} is {sum_to_n(n)}\")"
   ]
  },
  {
   "cell_type": "code",
   "execution_count": 17,
   "id": "5631e97c-5842-477a-98ba-8ae650146339",
   "metadata": {},
   "outputs": [
    {
     "name": "stdout",
     "output_type": "stream",
     "text": [
      "Original: Hello, World!\n",
      "Reversed: !dlroW ,olleH\n"
     ]
    }
   ],
   "source": [
    "def reverse_string(input_str):\n",
    "    reversed_str = \"\"\n",
    "    for char in input_str:\n",
    "        reversed_str = char + reversed_str\n",
    "    return reversed_str\n",
    "\n",
    "# Test the function\n",
    "text = \"Hello, World!\"\n",
    "print(f\"Original: {text}\")\n",
    "print(f\"Reversed: {reverse_string(text)}\")"
   ]
  },
  {
   "cell_type": "code",
   "execution_count": 19,
   "id": "79d23b60-9da3-47cf-9b35-574a50c5109a",
   "metadata": {},
   "outputs": [
    {
     "name": "stdout",
     "output_type": "stream",
     "text": [
      "Original list: [-5, 10, -7, 0, 15, -3, 8]\n",
      "Positive numbers: [10, 15, 8]\n"
     ]
    }
   ],
   "source": [
    "def filter_positive(numbers):\n",
    "    return [num for num in numbers if num > 0]\n",
    "\n",
    "# Test the function\n",
    "numbers = [-5, 10, -7, 0, 15, -3, 8]\n",
    "print(\"Original list:\", numbers)\n",
    "print(\"Positive numbers:\", filter_positive(numbers))"
   ]
  },
  {
   "cell_type": "code",
   "execution_count": 21,
   "id": "598bafbf-ec16-40ac-97c2-e07f204234c7",
   "metadata": {},
   "outputs": [
    {
     "name": "stdout",
     "output_type": "stream",
     "text": [
      "    Name  Age      City\n",
      "0   John   25  New York\n",
      "1  Alice   30    London\n",
      "2    Bob   22     Paris\n",
      "3  Emily   28     Tokyo\n"
     ]
    }
   ],
   "source": [
    "import pandas as pd\n",
    "\n",
    "# Sample dictionary\n",
    "data = {\n",
    "    'Name': ['John', 'Alice', 'Bob', 'Emily'],\n",
    "    'Age': [25, 30, 22, 28],\n",
    "    'City': ['New York', 'London', 'Paris', 'Tokyo']\n",
    "}\n",
    "\n",
    "# Create DataFrame\n",
    "df = pd.DataFrame(data)\n",
    "\n",
    "# Display the DataFrame\n",
    "print(df)"
   ]
  },
  {
   "cell_type": "code",
   "execution_count": 23,
   "id": "7cfd4291-a19c-4536-b123-22a4962f20de",
   "metadata": {},
   "outputs": [
    {
     "name": "stdout",
     "output_type": "stream",
     "text": [
      "Array: [10 15 20 25 30]\n",
      "Mean: 20.0\n"
     ]
    }
   ],
   "source": [
    "import numpy as np\n",
    "\n",
    "# Create a NumPy array\n",
    "arr = np.array([10, 15, 20, 25, 30])\n",
    "\n",
    "# Calculate mean\n",
    "mean_value = np.mean(arr)\n",
    "\n",
    "print(\"Array:\", arr)\n",
    "print(\"Mean:\", mean_value)"
   ]
  },
  {
   "cell_type": "code",
   "execution_count": 25,
   "id": "dbb69eb9-0413-4c1c-ae79-c35242fe1ab9",
   "metadata": {},
   "outputs": [
    {
     "name": "stdout",
     "output_type": "stream",
     "text": [
      "Array 1: [1 2 3 4 5]\n",
      "Array 2: [5 4 3 2 1]\n",
      "Element-wise multiplication: [5 8 9 8 5]\n"
     ]
    }
   ],
   "source": [
    "import numpy as np\n",
    "\n",
    "# Create two NumPy arrays\n",
    "arr1 = np.array([1, 2, 3, 4, 5])\n",
    "arr2 = np.array([5, 4, 3, 2, 1])\n",
    "\n",
    "# Multiply arrays element-wise\n",
    "result = arr1 * arr2\n",
    "\n",
    "print(\"Array 1:\", arr1)\n",
    "print(\"Array 2:\", arr2)\n",
    "print(\"Element-wise multiplication:\", result)"
   ]
  },
  {
   "cell_type": "code",
   "execution_count": 27,
   "id": "7202a564-b12c-42e9-be07-2ef57a2179c1",
   "metadata": {},
   "outputs": [
    {
     "name": "stdout",
     "output_type": "stream",
     "text": [
      "DataFrame:\n",
      "    A   B   C\n",
      "0  10  15   5\n",
      "1  20  25  10\n",
      "2  30  35  15\n",
      "3  40  45  20\n",
      "4  50  55  25\n",
      "Sum of column 'A': 150\n"
     ]
    }
   ],
   "source": [
    "import pandas as pd\n",
    "\n",
    "# Create a sample DataFrame\n",
    "data = {\n",
    "    'A': [10, 20, 30, 40, 50],\n",
    "    'B': [15, 25, 35, 45, 55],\n",
    "    'C': [5, 10, 15, 20, 25]\n",
    "}\n",
    "\n",
    "df = pd.DataFrame(data)\n",
    "\n",
    "# Calculate sum of column 'A'\n",
    "column_sum = df['A'].sum()\n",
    "\n",
    "print(\"DataFrame:\")\n",
    "print(df)\n",
    "print(f\"Sum of column 'A': {column_sum}\")"
   ]
  },
  {
   "cell_type": "code",
   "execution_count": 29,
   "id": "8d3aa73d-11e2-4fab-b66d-5c4a316330c9",
   "metadata": {},
   "outputs": [
    {
     "name": "stdout",
     "output_type": "stream",
     "text": [
      "Original DataFrame:\n",
      "   ID  Value\n",
      "0   1     15\n",
      "1   2     32\n",
      "2   3      8\n",
      "3   4     47\n",
      "4   5     23\n",
      "\n",
      "Rows where Value > 20:\n",
      "   ID  Value\n",
      "1   2     32\n",
      "3   4     47\n",
      "4   5     23\n"
     ]
    }
   ],
   "source": [
    "import pandas as pd\n",
    "\n",
    "# Create a sample DataFrame\n",
    "data = {\n",
    "    'ID': [1, 2, 3, 4, 5],\n",
    "    'Value': [15, 32, 8, 47, 23]\n",
    "}\n",
    "\n",
    "df = pd.DataFrame(data)\n",
    "\n",
    "# Set threshold\n",
    "threshold = 20\n",
    "\n",
    "# Filter rows\n",
    "filtered_df = df[df['Value'] > threshold]\n",
    "\n",
    "print(\"Original DataFrame:\")\n",
    "print(df)\n",
    "print(f\"\\nRows where Value > {threshold}:\")\n",
    "print(filtered_df)"
   ]
  },
  {
   "cell_type": "code",
   "execution_count": 31,
   "id": "21fc7649-6a4f-4560-a49e-32f6a15be344",
   "metadata": {},
   "outputs": [
    {
     "name": "stdout",
     "output_type": "stream",
     "text": [
      "Original DataFrame with NaN values:\n",
      "      A     B     C\n",
      "0  10.0   NaN   5.0\n",
      "1  20.0  25.0   NaN\n",
      "2   NaN  35.0  15.0\n",
      "3  40.0   NaN  20.0\n",
      "4  50.0  55.0   NaN\n",
      "\n",
      "DataFrame with NaN replaced by column mean:\n",
      "      A          B          C\n",
      "0  10.0  38.333333   5.000000\n",
      "1  20.0  25.000000  13.333333\n",
      "2  30.0  35.000000  15.000000\n",
      "3  40.0  38.333333  20.000000\n",
      "4  50.0  55.000000  13.333333\n"
     ]
    }
   ],
   "source": [
    "import pandas as pd\n",
    "import numpy as np\n",
    "\n",
    "# Create DataFrame with missing values\n",
    "data = {\n",
    "    'A': [10, 20, np.nan, 40, 50],\n",
    "    'B': [np.nan, 25, 35, np.nan, 55],\n",
    "    'C': [5, np.nan, 15, 20, np.nan]\n",
    "}\n",
    "\n",
    "df = pd.DataFrame(data)\n",
    "\n",
    "# Replace missing values with column mean\n",
    "df_filled = df.fillna(df.mean())\n",
    "\n",
    "print(\"Original DataFrame with NaN values:\")\n",
    "print(df)\n",
    "print(\"\\nDataFrame with NaN replaced by column mean:\")\n",
    "print(df_filled)"
   ]
  },
  {
   "cell_type": "code",
   "execution_count": 33,
   "id": "a04d0c09-4598-49a6-a8b2-e95c40bd6d87",
   "metadata": {},
   "outputs": [
    {
     "name": "stdout",
     "output_type": "stream",
     "text": [
      "DataFrame:\n",
      "    A   B   C\n",
      "0  10  15   5\n",
      "1  20  25  10\n",
      "2  30  35  15\n",
      "3  40  45  20\n",
      "\n",
      "NumPy Array:\n",
      "[[10 15  5]\n",
      " [20 25 10]\n",
      " [30 35 15]\n",
      " [40 45 20]]\n"
     ]
    }
   ],
   "source": [
    "import pandas as pd\n",
    "\n",
    "# Create a sample DataFrame\n",
    "data = {\n",
    "    'A': [10, 20, 30, 40],\n",
    "    'B': [15, 25, 35, 45],\n",
    "    'C': [5, 10, 15, 20]\n",
    "}\n",
    "\n",
    "df = pd.DataFrame(data)\n",
    "\n",
    "# Convert to NumPy array\n",
    "np_array = df.to_numpy()\n",
    "\n",
    "print(\"DataFrame:\")\n",
    "print(df)\n",
    "print(\"\\nNumPy Array:\")\n",
    "print(np_array)"
   ]
  },
  {
   "cell_type": "code",
   "execution_count": 35,
   "id": "ae043fa4-5d68-4b99-993f-f5269fd191b2",
   "metadata": {},
   "outputs": [
    {
     "name": "stdout",
     "output_type": "stream",
     "text": [
      "Original DataFrame:\n",
      "    Name  Age  Score\n",
      "0   John   25     85\n",
      "1  Alice   30     92\n",
      "2    Bob   22     78\n",
      "3  Emily   28     95\n",
      "\n",
      "Sorted DataFrame (by Score, ascending):\n",
      "    Name  Age  Score\n",
      "2    Bob   22     78\n",
      "0   John   25     85\n",
      "1  Alice   30     92\n",
      "3  Emily   28     95\n"
     ]
    }
   ],
   "source": [
    "import pandas as pd\n",
    "\n",
    "# Create a sample DataFrame\n",
    "data = {\n",
    "    'Name': ['John', 'Alice', 'Bob', 'Emily'],\n",
    "    'Age': [25, 30, 22, 28],\n",
    "    'Score': [85, 92, 78, 95]\n",
    "}\n",
    "\n",
    "df = pd.DataFrame(data)\n",
    "\n",
    "# Sort by 'Score' column in ascending order\n",
    "sorted_df = df.sort_values(by='Score')\n",
    "\n",
    "print(\"Original DataFrame:\")\n",
    "print(df)\n",
    "print(\"\\nSorted DataFrame (by Score, ascending):\")\n",
    "print(sorted_df)"
   ]
  },
  {
   "cell_type": "code",
   "execution_count": 37,
   "id": "f57b1144-2619-47f7-82ce-aa326690c439",
   "metadata": {},
   "outputs": [
    {
     "name": "stdout",
     "output_type": "stream",
     "text": [
      "Original 2D array:\n",
      "[[1 2 3]\n",
      " [4 5 6]\n",
      " [7 8 9]]\n",
      "\n",
      "Sum along axis 0 (columns):\n",
      "[12 15 18]\n",
      "\n",
      "Sum along axis 1 (rows):\n",
      "[ 6 15 24]\n"
     ]
    }
   ],
   "source": [
    "import numpy as np\n",
    "\n",
    "# Create a 2D NumPy array\n",
    "arr = np.array([[1, 2, 3], [4, 5, 6], [7, 8, 9]])\n",
    "\n",
    "# Calculate sum along axis 0 (columns)\n",
    "sum_axis0 = np.sum(arr, axis=0)\n",
    "\n",
    "# Calculate sum along axis 1 (rows)\n",
    "sum_axis1 = np.sum(arr, axis=1)\n",
    "\n",
    "print(\"Original 2D array:\")\n",
    "print(arr)\n",
    "print(\"\\nSum along axis 0 (columns):\")\n",
    "print(sum_axis0)\n",
    "print(\"\\nSum along axis 1 (rows):\")\n",
    "print(sum_axis1)"
   ]
  },
  {
   "cell_type": "code",
   "execution_count": 39,
   "id": "5a55665c-3eac-4146-9896-1b411b3272f5",
   "metadata": {},
   "outputs": [
    {
     "name": "stdout",
     "output_type": "stream",
     "text": [
      "Original DataFrame:\n",
      "   A   B  C\n",
      "0  1  10  a\n",
      "1  2  20  b\n",
      "2  3  30  c\n",
      "3  2  20  b\n",
      "4  1  10  a\n",
      "\n",
      "DataFrame with duplicates removed:\n",
      "   A   B  C\n",
      "0  1  10  a\n",
      "1  2  20  b\n",
      "2  3  30  c\n"
     ]
    }
   ],
   "source": [
    "import pandas as pd\n",
    "\n",
    "# Create DataFrame with duplicate rows\n",
    "data = {\n",
    "    'A': [1, 2, 3, 2, 1],\n",
    "    'B': [10, 20, 30, 20, 10],\n",
    "    'C': ['a', 'b', 'c', 'b', 'a']\n",
    "}\n",
    "\n",
    "df = pd.DataFrame(data)\n",
    "\n",
    "# Drop duplicate rows\n",
    "df_no_duplicates = df.drop_duplicates()\n",
    "\n",
    "print(\"Original DataFrame:\")\n",
    "print(df)\n",
    "print(\"\\nDataFrame with duplicates removed:\")\n",
    "print(df_no_duplicates)"
   ]
  },
  {
   "cell_type": "code",
   "execution_count": null,
   "id": "8b31b7cd-089e-438f-9230-87428dd0e580",
   "metadata": {},
   "outputs": [],
   "source": [
    "\n"
   ]
  }
 ],
 "metadata": {
  "kernelspec": {
   "display_name": "Python 3 (ipykernel)",
   "language": "python",
   "name": "python3"
  },
  "language_info": {
   "codemirror_mode": {
    "name": "ipython",
    "version": 3
   },
   "file_extension": ".py",
   "mimetype": "text/x-python",
   "name": "python",
   "nbconvert_exporter": "python",
   "pygments_lexer": "ipython3",
   "version": "3.12.4"
  }
 },
 "nbformat": 4,
 "nbformat_minor": 5
}
